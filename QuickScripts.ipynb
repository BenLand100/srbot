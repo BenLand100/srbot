{
 "cells": [
  {
   "cell_type": "code",
   "execution_count": null,
   "metadata": {},
   "outputs": [],
   "source": [
    "%matplotlib inline\n",
    "from IPython.display import clear_output\n",
    "from pytesseract import image_to_string\n",
    "import time\n",
    "\n",
    "from srbot import *"
   ]
  },
  {
   "cell_type": "code",
   "execution_count": null,
   "metadata": {
    "scrolled": true
   },
   "outputs": [],
   "source": [
    "# Echos coords and colors under mouse\n",
    "try:\n",
    "    while True:\n",
    "        sleep(1)\n",
    "        target()\n",
    "        x,y = pyautogui.position()\n",
    "        print('%i,%i [%i,%i,%i]'%(x-x0,y-y0,*np.asarray(pyautogui.screenshot(region=[x,y,1,1]))[0,0]))\n",
    "except KeyboardInterrupt:\n",
    "    pass"
   ]
  },
  {
   "cell_type": "code",
   "execution_count": null,
   "metadata": {},
   "outputs": [],
   "source": [
    "target()\n",
    "while True: #buy feathers\n",
    "    click_mouse(380,79,left=False)\n",
    "    sleep(0.01)\n",
    "    click_mouse(386,154)\n",
    "    sleep(0.01)"
   ]
  },
  {
   "cell_type": "code",
   "execution_count": null,
   "metadata": {},
   "outputs": [],
   "source": [
    "target()\n",
    "while True: #make arrows\n",
    "    click_mouse(580,228) #inv1\n",
    "    sleep(0.2)\n",
    "    move_mouse(625,236) #inv2\n",
    "    sleep(0.2)\n",
    "    click_mouse(625,236) #inv2\n",
    "    sleep(0.2)\n",
    "    click_mouse(250,420,left=False)\n",
    "    sleep(0.5)\n",
    "    click_mouse(237,480)\n",
    "    sleep(10.0)"
   ]
  },
  {
   "cell_type": "code",
   "execution_count": null,
   "metadata": {},
   "outputs": [],
   "source": [
    "target()\n",
    "while True: #make bolts\n",
    "    click_mouse(580,228) #inv1\n",
    "    sleep(0.2)\n",
    "    click_mouse(625,236) #inv2\n",
    "    sleep(0.1)"
   ]
  },
  {
   "cell_type": "code",
   "execution_count": null,
   "metadata": {},
   "outputs": [],
   "source": [
    "target() #buy runes\n",
    "topleft = np.asarray([95,85])\n",
    "offset = np.asarray([144-95,0])\n",
    "idx = np.asarray([7,0]) #rune to buy\n",
    "for i in range(25):\n",
    "    click_mouse(*(topleft+offset*idx),left=False)\n",
    "    sleep(0.1)\n",
    "    click_mouse(*((topleft+offset*idx)+[0,154-79]))\n",
    "    sleep(0.05)"
   ]
  },
  {
   "cell_type": "code",
   "execution_count": null,
   "metadata": {},
   "outputs": [],
   "source": [
    "target()\n",
    "for _ in range(39): #high alch\n",
    "    click_mouse(721,335) #spell\n",
    "    sleep(0.45)\n",
    "    click_mouse(710,331) #spot\n",
    "    sleep(2.07)"
   ]
  },
  {
   "cell_type": "code",
   "execution_count": null,
   "metadata": {},
   "outputs": [],
   "source": []
  }
 ],
 "metadata": {
  "kernelspec": {
   "display_name": "Python 3",
   "language": "python",
   "name": "python3"
  },
  "language_info": {
   "codemirror_mode": {
    "name": "ipython",
    "version": 3
   },
   "file_extension": ".py",
   "mimetype": "text/x-python",
   "name": "python",
   "nbconvert_exporter": "python",
   "pygments_lexer": "ipython3",
   "version": "3.6.9"
  }
 },
 "nbformat": 4,
 "nbformat_minor": 2
}
